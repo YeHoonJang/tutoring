{
 "cells": [
  {
   "cell_type": "markdown",
   "metadata": {},
   "source": [
    "## Q1. 아래 기준과 함수를 활용하여 점수를 입력하면 성적을 출력하는 프로그램을 작성하시오."
   ]
  },
  {
   "cell_type": "markdown",
   "metadata": {},
   "source": [
    "```python\n",
    "n - m  == (n 이하 m 초과)\n",
    "\n",
    "100 - 80 : A\n",
    "80 - 60 : B\n",
    "60 - 40 : C\n",
    "40 - 20 : D\n",
    "20 - 0 : F\n",
    "```"
   ]
  },
  {
   "cell_type": "code",
   "execution_count": 3,
   "metadata": {},
   "outputs": [],
   "source": [
    "def grade():\n",
    "    return result"
   ]
  },
  {
   "cell_type": "markdown",
   "metadata": {},
   "source": [
    "## Q2. 학생들의 성적이 아래와 같을 때, 함수를 활용하여 과목명을 입력하면 해당 과목의 평균점수와 최고점수, 최저점수를 출력하는 프로그램을 작성하시오."
   ]
  },
  {
   "cell_type": "markdown",
   "metadata": {},
   "source": [
    "```python\n",
    "과목별 성적 = {'Korean': [56, 77, 84, 43, 92], 'English': [80, 52, 65, 68, 98], 'Math': [54, 89, 57, 67, 40]}\n",
    "```"
   ]
  },
  {
   "cell_type": "code",
   "execution_count": 4,
   "metadata": {},
   "outputs": [],
   "source": [
    "def score():\n",
    "    return result"
   ]
  },
  {
   "cell_type": "markdown",
   "metadata": {},
   "source": [
    "## Q3. while문을 활용하여 비밀번호를 입력받고 맞는지 확인하는 프로그램을 작성하시오. (단, 비밀번호는 최대 5번까지 틀릴 수 있고, 5번을 초과하면 프로그램이 종료됩니다.)"
   ]
  },
  {
   "cell_type": "code",
   "execution_count": 14,
   "metadata": {},
   "outputs": [
    {
     "name": "stdout",
     "output_type": "stream",
     "text": [
      "1\n",
      "1\n",
      "wrong2\n",
      "2\n",
      "wrong3\n",
      "3\n",
      "wrong4\n",
      "4\n",
      "wrong5\n",
      "5\n",
      "wrong6\n"
     ]
    }
   ],
   "source": [
    "password = int(input())\n",
    "count = 0\n",
    "while count < 5:  \n",
    "    if password != 1234:\n",
    "        count += 1\n",
    "        password = int(input(\"wrong\"))\n",
    "    else:\n",
    "        print(\"right\")\n",
    "        count = 6"
   ]
  }
 ],
 "metadata": {
  "kernelspec": {
   "display_name": "Python 3",
   "language": "python",
   "name": "python3"
  },
  "language_info": {
   "codemirror_mode": {
    "name": "ipython",
    "version": 3
   },
   "file_extension": ".py",
   "mimetype": "text/x-python",
   "name": "python",
   "nbconvert_exporter": "python",
   "pygments_lexer": "ipython3",
   "version": "3.7.4"
  }
 },
 "nbformat": 4,
 "nbformat_minor": 2
}
