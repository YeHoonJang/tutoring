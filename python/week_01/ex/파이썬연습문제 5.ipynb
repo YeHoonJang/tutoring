{
 "cells": [
  {
   "cell_type": "markdown",
   "metadata": {},
   "source": [
    "### Exercise 64.  함수\n",
    "Fun Coding 을 출력하는 funcoding() 함수를 만들어보고, 호출해보세요."
   ]
  },
  {
   "cell_type": "code",
   "execution_count": 4,
   "metadata": {},
   "outputs": [
    {
     "name": "stdout",
     "output_type": "stream",
     "text": [
      "fun coding\n"
     ]
    }
   ],
   "source": [
    "#★\n",
    "def funcoding():\n",
    "    print('fun coding')\n",
    "    \n",
    "funcoding()"
   ]
  },
  {
   "cell_type": "markdown",
   "metadata": {
    "collapsed": true
   },
   "source": [
    "### Exercise 65.  함수\n",
    "임의의 문자열을 넣으면 해당 문자열을 출력하는 funcoding() 함수를 만들어보고, 호출해보세요.\n",
    "```python\n",
    "출력 예:\n",
    "funcoding(\"Fun Coding\")\n",
    "\n",
    "Fun Coding\n",
    "```\n"
   ]
  },
  {
   "cell_type": "code",
   "execution_count": 9,
   "metadata": {
    "scrolled": true
   },
   "outputs": [
    {
     "ename": "TypeError",
     "evalue": "funcoding() takes 0 positional arguments but 1 was given",
     "output_type": "error",
     "traceback": [
      "\u001b[1;31m---------------------------------------------------------------------------\u001b[0m",
      "\u001b[1;31mTypeError\u001b[0m                                 Traceback (most recent call last)",
      "\u001b[1;32m<ipython-input-9-4e9d7a7ddcce>\u001b[0m in \u001b[0;36m<module>\u001b[1;34m\u001b[0m\n\u001b[0;32m      2\u001b[0m     \u001b[0mprint\u001b[0m\u001b[1;33m(\u001b[0m\u001b[1;34m''\u001b[0m\u001b[1;33m)\u001b[0m\u001b[1;33m\u001b[0m\u001b[1;33m\u001b[0m\u001b[0m\n\u001b[0;32m      3\u001b[0m \u001b[1;33m\u001b[0m\u001b[0m\n\u001b[1;32m----> 4\u001b[1;33m \u001b[0mfuncoding\u001b[0m\u001b[1;33m(\u001b[0m\u001b[1;34m'dd'\u001b[0m\u001b[1;33m)\u001b[0m\u001b[1;33m\u001b[0m\u001b[1;33m\u001b[0m\u001b[0m\n\u001b[0m",
      "\u001b[1;31mTypeError\u001b[0m: funcoding() takes 0 positional arguments but 1 was given"
     ]
    }
   ],
   "source": [
    "#★\n",
    "def funcoding():\n",
    "    print('')\n",
    "    \n",
    "funcoding('dd')"
   ]
  },
  {
   "cell_type": "code",
   "execution_count": 11,
   "metadata": {},
   "outputs": [
    {
     "name": "stdout",
     "output_type": "stream",
     "text": [
      "dd\n"
     ]
    }
   ],
   "source": [
    "#★정답\n",
    "def funcoding(var):\n",
    "    print(var)\n",
    "    \n",
    "funcoding('dd')"
   ]
  },
  {
   "cell_type": "markdown",
   "metadata": {},
   "source": [
    "### Exercise 66. 함수\n",
    "임의의 세 개의 숫자를 인자로 넣으면 세 숫자를 더한 값을 출력해주는 함수를 만들어보고, 호출해보세요.\n",
    "```python\n",
    "출력 예:\n",
    "plus(1, 2, 3)\n",
    "\n",
    "6\n",
    "```"
   ]
  },
  {
   "cell_type": "code",
   "execution_count": 13,
   "metadata": {},
   "outputs": [
    {
     "name": "stdout",
     "output_type": "stream",
     "text": [
      "892\n"
     ]
    }
   ],
   "source": [
    "def fun(a,b,c):\n",
    "    print(a+b+c)\n",
    "fun(1,2,889)\n",
    "    "
   ]
  },
  {
   "cell_type": "markdown",
   "metadata": {},
   "source": [
    "### Exercise 67. 함수 \n",
    "임의의 두 개의 숫자를 인자로 넣으면 두 개의 숫자를 곱한 값을 리턴해주는 함수를 만들어보고, 특정 변수에 해당 리턴값을 넣고, 호출해보세요.\n",
    "```python\n",
    "출력 예:\n",
    "data = multiply(2, 3)\n",
    "print (data)\n",
    "\n",
    "6\n",
    "```"
   ]
  },
  {
   "cell_type": "code",
   "execution_count": 15,
   "metadata": {},
   "outputs": [
    {
     "name": "stdout",
     "output_type": "stream",
     "text": [
      "10624\n"
     ]
    }
   ],
   "source": [
    "#★\n",
    "def data(a,b):\n",
    "    print(a*b)\n",
    "data(332,32)"
   ]
  },
  {
   "cell_type": "code",
   "execution_count": 16,
   "metadata": {},
   "outputs": [
    {
     "name": "stdout",
     "output_type": "stream",
     "text": [
      "106447176\n"
     ]
    }
   ],
   "source": [
    "#★정답\n",
    "def multifly(a,b):\n",
    "    return a*b\n",
    "\n",
    "data=multifly(2343,45432)\n",
    "print(data)"
   ]
  },
  {
   "cell_type": "markdown",
   "metadata": {},
   "source": [
    "### Exercise 68. 함수\n",
    "사칙연산을 지원하는 함수를 다음과 같이 만들고, 특정 변수에 해당 리턴값을 넣고, 호출해보세요.\n",
    "\n",
    "```python\n",
    "첫번째 인자: 숫자\n",
    "두번째 인자: 숫자\n",
    "세번째 인자: \"*\" 또는 \"+\"\n",
    "\n",
    "세번째 인자에 따라 첫번째 인자와 두번째 인자를 곱하거나, 더한 값을 리턴\n",
    "만약, 세번째 인자가 \"*\" 또는 \"+\" 가 아니라면, 0을 리턴\n",
    "출력 예1:\n",
    "data = cal(2, 3, \"*\")\n",
    "print (data)\n",
    "\n",
    "6\n",
    "\n",
    "출력 예2:\n",
    "data = cal(2, 3, \"+\")\n",
    "print (data)\n",
    "\n",
    "5\n",
    "\n",
    "출력 예3:\n",
    "data = cal(2, 3, \"-\")\n",
    "print (data)\n",
    "\n",
    "0\n",
    "```"
   ]
  },
  {
   "cell_type": "code",
   "execution_count": 21,
   "metadata": {},
   "outputs": [
    {
     "name": "stdout",
     "output_type": "stream",
     "text": [
      "45\n"
     ]
    }
   ],
   "source": [
    "def data(a,b,c):\n",
    "    if c=='+':\n",
    "        return a+b\n",
    "    elif c=='*':\n",
    "        return a*b\n",
    "    else:\n",
    "        return 0\n",
    "\n",
    "data2=data(1,45,'*')\n",
    "print(data2)"
   ]
  },
  {
   "cell_type": "markdown",
   "metadata": {},
   "source": [
    "### Exercise 69. 함수\n",
    "Exercise 68에서 작성한 함수에 사칙연산 기능을 \"-\" (빼기) 와 \"/\" (나누기) 도 지원하도록 추가해서, 호출해보세요.<br>\n",
    "단, \"/\" 일 경우, 두번째 인자가 0이면, -1 을 리턴하도록 작성하세요."
   ]
  },
  {
   "cell_type": "code",
   "execution_count": 26,
   "metadata": {},
   "outputs": [
    {
     "name": "stdout",
     "output_type": "stream",
     "text": [
      "999999\n"
     ]
    }
   ],
   "source": [
    "def data(a,b,c):\n",
    "    if c=='+':\n",
    "        return a+b\n",
    "    elif c=='*':\n",
    "        return a*b\n",
    "    elif c=='-':\n",
    "        return a-b\n",
    "    elif c=='/':\n",
    "        if b==0:\n",
    "            return -1\n",
    "        else:\n",
    "            return a/b\n",
    "    else:\n",
    "        return 0\n",
    "\n",
    "data2=data(999999,0,'-')\n",
    "print(data2)"
   ]
  },
  {
   "cell_type": "markdown",
   "metadata": {},
   "source": [
    "### Exercise 70. 함수\n",
    "다음과 같은 기능을 하는 함수를 작성하고, 호출해보세요.\n",
    "```python\n",
    "첫번째 인자: 문자열\n",
    "두번째 인자: 숫자\n",
    "리턴값: 문자열을 숫자만큼 넣은 리스트\n",
    "출력 예1:\n",
    "print_string(\"Fun\", 3)\n",
    "\n",
    "[\"Fun\", \"Fun\", \"Fun\"]\n",
    "```"
   ]
  },
  {
   "cell_type": "code",
   "execution_count": 29,
   "metadata": {},
   "outputs": [
    {
     "data": {
      "text/plain": [
       "'jjooojjjoooj'"
      ]
     },
     "execution_count": 29,
     "metadata": {},
     "output_type": "execute_result"
    }
   ],
   "source": [
    "#★\n",
    "def print_string(a,b):\n",
    "    return a*b\n",
    "\n",
    "print_string('jjoooj',2)"
   ]
  },
  {
   "cell_type": "code",
   "execution_count": 36,
   "metadata": {},
   "outputs": [
    {
     "data": {
      "text/plain": [
       "['33', '33', '33']"
      ]
     },
     "execution_count": 36,
     "metadata": {},
     "output_type": "execute_result"
    }
   ],
   "source": [
    "#★정답\n",
    "def printy(a,b):\n",
    "    data=list()\n",
    "    for index in range(b):\n",
    "        data.append(a)\n",
    "    return data\n",
    "    \n",
    "printy('33',3)\n",
    "        "
   ]
  },
  {
   "cell_type": "code",
   "execution_count": null,
   "metadata": {},
   "outputs": [],
   "source": []
  }
 ],
 "metadata": {
  "kernelspec": {
   "display_name": "Python 3",
   "language": "python",
   "name": "python3"
  },
  "language_info": {
   "codemirror_mode": {
    "name": "ipython",
    "version": 3
   },
   "file_extension": ".py",
   "mimetype": "text/x-python",
   "name": "python",
   "nbconvert_exporter": "python",
   "pygments_lexer": "ipython3",
   "version": "3.7.4"
  },
  "nbTranslate": {
   "displayLangs": [
    "*"
   ],
   "hotkey": "alt-t",
   "langInMainMenu": true,
   "sourceLang": "en",
   "targetLang": "fr",
   "useGoogleTranslate": true
  }
 },
 "nbformat": 4,
 "nbformat_minor": 2
}
