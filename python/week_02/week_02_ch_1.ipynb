{
 "cells": [
  {
   "cell_type": "markdown",
   "metadata": {},
   "source": [
    "# Chapter 1. 판다스 자료구조"
   ]
  },
  {
   "cell_type": "code",
   "execution_count": 67,
   "metadata": {},
   "outputs": [],
   "source": [
    "#pandas 호출 \n",
    "#as 뒤에 alias 지정\n",
    "import pandas as pd"
   ]
  },
  {
   "cell_type": "markdown",
   "metadata": {},
   "source": [
    "## 시리즈 만들기\n",
    "~~~python\n",
    "딕셔너리 → 시리즈 변환 : pandas.Series(dict)\n",
    "~~~"
   ]
  },
  {
   "cell_type": "code",
   "execution_count": 7,
   "metadata": {},
   "outputs": [],
   "source": [
    "#pandas 호출 \n",
    "#as 뒤에 alias 지정\n",
    "import pandas as pd"
   ]
  },
  {
   "cell_type": "code",
   "execution_count": 68,
   "metadata": {},
   "outputs": [],
   "source": [
    "#키 → 인덱스 / 밸류 → 데이터\n",
    "\n",
    "dict_data = {'a': 1, 'b': 2, 'c': 3}"
   ]
  },
  {
   "cell_type": "code",
   "execution_count": 69,
   "metadata": {},
   "outputs": [],
   "source": [
    "# 판다스 Series() 함수로 딕셔너리(dict_data)를 시리즈로 변환. 변수 sr에 저장\n",
    "\n",
    "# sr = "
   ]
  },
  {
   "cell_type": "code",
   "execution_count": 70,
   "metadata": {},
   "outputs": [],
   "source": [
    "#sr의 자료형 출력\n"
   ]
  },
  {
   "cell_type": "code",
   "execution_count": 71,
   "metadata": {},
   "outputs": [],
   "source": [
    "#sr에 저장되어 있는 시리즈 객체 출력\n"
   ]
  },
  {
   "cell_type": "markdown",
   "metadata": {},
   "source": [
    "## 시리즈 인덱스\n",
    "~~~python\n",
    "인덱스 배열 : Series.index\n",
    "데이터 값 배열 : Series.value\n",
    "~~~"
   ]
  },
  {
   "cell_type": "code",
   "execution_count": 72,
   "metadata": {},
   "outputs": [],
   "source": [
    "#리스트 → 시리즈 변환\n",
    "list_data = ['2019-01-02', 3.14, 'ABC', 100, True]"
   ]
  },
  {
   "cell_type": "code",
   "execution_count": 73,
   "metadata": {},
   "outputs": [],
   "source": [
    "# 리스트를 시리즈로 변환하여 변수 sr에 저장\n",
    "\n",
    "#sr = "
   ]
  },
  {
   "cell_type": "code",
   "execution_count": 74,
   "metadata": {},
   "outputs": [],
   "source": [
    "#시리즈 객체 출력\n"
   ]
  },
  {
   "cell_type": "code",
   "execution_count": 75,
   "metadata": {},
   "outputs": [],
   "source": [
    "# 인덱스 배열은 변수 idx에 저장\n",
    "# 데이터 값 배열은 변수 val에 저장\n",
    "\n",
    "#idx = \n",
    "#val = "
   ]
  },
  {
   "cell_type": "code",
   "execution_count": 76,
   "metadata": {},
   "outputs": [],
   "source": [
    "# 인덱스, 데이터 각각 출력\n",
    "\n"
   ]
  },
  {
   "cell_type": "markdown",
   "metadata": {},
   "source": [
    "## 원소 선택\n",
    "~~~python\n",
    "정수 인덱싱 : Series[숫자]\n",
    "이름 인덱싱 : Series[\"이름\"]\n",
    "여러 원소 인덱싱 : Series[index, index]\n",
    "구간 인덱싱 : Series[index:index]\n",
    "~~~"
   ]
  },
  {
   "cell_type": "code",
   "execution_count": 77,
   "metadata": {},
   "outputs": [],
   "source": [
    "# 튜플을 시리즈로 변환(index 옵션에 인덱스 이름을 지정)\n",
    "# 인덱스 이름(순서대로) : ['이름', '생년월일', '성별', '학생여부']\n",
    "tup_data = ('영인', '2010-05-01', '여', True)\n",
    "\n",
    "#sr = "
   ]
  },
  {
   "cell_type": "code",
   "execution_count": 78,
   "metadata": {},
   "outputs": [],
   "source": [
    "# 원소를 1개 선택\n",
    "# sr의 1 번째 원소를 선택 (정수형 위치 인덱스를 활용)\n",
    "\n",
    "# '이름' 라벨을 가진 원소를 선택 (인덱스 이름을 활용)\n",
    "\n"
   ]
  },
  {
   "cell_type": "code",
   "execution_count": 79,
   "metadata": {},
   "outputs": [],
   "source": [
    "# 여러 개의 원소를 선택 (인덱스 리스트 활용)\n"
   ]
  },
  {
   "cell_type": "code",
   "execution_count": 80,
   "metadata": {},
   "outputs": [],
   "source": [
    "# 여러 개의 원소를 선택 (인덱스 범위 지정)\n"
   ]
  },
  {
   "cell_type": "markdown",
   "metadata": {},
   "source": [
    "## 데이터 프레임 만들기\n",
    "~~~python\n",
    "딕셔너리 → 데이터 프레임 : pandas.DataFrame(딕셔너리 객체)\n",
    "~~~"
   ]
  },
  {
   "cell_type": "code",
   "execution_count": 81,
   "metadata": {},
   "outputs": [],
   "source": [
    "# 열 이름을 key로 하고, 리스트를 value로 갖는 딕셔너리 정의(2차원 배열)\n",
    "dict_data = {'c0':[1,2,3], 'c1':[4,5,6], 'c2':[7,8,9], 'c3':[10,11,12], 'c4':[13,14,15]}\n",
    "\n",
    "#df ="
   ]
  },
  {
   "cell_type": "code",
   "execution_count": 82,
   "metadata": {},
   "outputs": [],
   "source": [
    "# df의 자료형 출력\n",
    "\n",
    "# 변수 df에 저장되어 있는 데이터프레임 객체를 출력\n"
   ]
  },
  {
   "cell_type": "markdown",
   "metadata": {},
   "source": [
    "## 행 인덱스 / 열 이름 설정\n",
    "~~~python\n",
    "행 인덱스 / 열 이름 설정 : pandas.DataFrame(2차원 배열, index=행 인덱스 배열, columns=열 이름 배열)\n",
    "~~~"
   ]
  },
  {
   "cell_type": "code",
   "execution_count": 83,
   "metadata": {},
   "outputs": [],
   "source": [
    "# 행 인덱스/열 이름 지정하여, 데이터프레임 만들기\n",
    "\n",
    "# 데이터 = [[15, '남', '덕영중'], [17, '여', '수리중']]\n",
    "# 행 인덱스 = ['준서', '예은']\n",
    "# 열 이름 = ['나이', '성별', '학교']\n",
    "\n",
    "#df ="
   ]
  },
  {
   "cell_type": "code",
   "execution_count": 84,
   "metadata": {},
   "outputs": [],
   "source": [
    "# 데이터 프레임, 행 인덱스, 열 이름 확인하기\n"
   ]
  },
  {
   "cell_type": "markdown",
   "metadata": {},
   "source": [
    "## 행 인덱스 /열 이름 변경하기 #1\n",
    "~~~python\n",
    "행 인덱스 변경 : df.index = [행 인덱스]\n",
    "열 이름 변경 : df.columns = [열 이름]\n",
    "~~~"
   ]
  },
  {
   "cell_type": "code",
   "execution_count": 85,
   "metadata": {},
   "outputs": [],
   "source": [
    "# 행 인덱스, 열 이름 변경하기\n",
    "# 행 인덱스 = ['학생1', '학생2']\n",
    "# 열 이름 = ['연령', '남녀', '소속']"
   ]
  },
  {
   "cell_type": "code",
   "execution_count": 86,
   "metadata": {},
   "outputs": [],
   "source": [
    "# 데이터 프레임, 행 인덱스, 열 이름 확인하기\n"
   ]
  },
  {
   "cell_type": "markdown",
   "metadata": {},
   "source": [
    "## 행 인덱스 /열 이름 변경하기 #2\n",
    "~~~python\n",
    "행 인덱스 변경 : df.rename(index={기존 인덱스: 새 인덱스, 기존 인덱스: 새 인덱스, ..., 기존 인덱스: 새 인덱스})\n",
    "열 이름 변경 : df.rename(columns={기존 이름: 새 이름, 기존 이름: 새 이름, ..., 기존 이름: 새 이름})\n",
    "~~~"
   ]
  },
  {
   "cell_type": "code",
   "execution_count": 87,
   "metadata": {},
   "outputs": [],
   "source": [
    "# 열 이름 중, '나이'를 '연령'으로, '성별'을 '남녀'로, '학교'를 '소속'으로 바꾸기\n",
    "\n",
    "# df의 행 인덱스 중에서, '준서'를 '학생1'로, '예은'을 '학생2'로 바꾸기\n"
   ]
  },
  {
   "cell_type": "code",
   "execution_count": 88,
   "metadata": {},
   "outputs": [],
   "source": [
    "# df 출력(변경 후)\n"
   ]
  },
  {
   "cell_type": "markdown",
   "metadata": {},
   "source": [
    "## 행/열 삭제하기\n",
    "~~~python\n",
    "행 삭제 : df.drop(행 인덱스/배열, axis=0)\n",
    "열 삭제 : df.drop(열 이름/배열, axis=1)\n",
    "~~~"
   ]
  },
  {
   "cell_type": "code",
   "execution_count": 89,
   "metadata": {},
   "outputs": [],
   "source": [
    "# DataFrame() 함수로 데이터프레임 변환\n",
    "# 변수 df에 저장 \n",
    "# index=['서준', '우현', '인아']\n",
    "exam_data = {'수학' : [ 90, 80, 70], '영어' : [ 98, 89, 95],\n",
    "             '음악' : [ 85, 95, 100], '체육' : [ 100, 90, 90]}\n",
    "\n",
    "#df ="
   ]
  },
  {
   "cell_type": "markdown",
   "metadata": {},
   "source": [
    "### 행 삭제"
   ]
  },
  {
   "cell_type": "code",
   "execution_count": 90,
   "metadata": {},
   "outputs": [],
   "source": [
    "# 데이터프레임 df를 복제하여 변수 df2에 저장\n",
    "# df2의 1개 행(row)을 삭제\n"
   ]
  },
  {
   "cell_type": "code",
   "execution_count": 91,
   "metadata": {},
   "outputs": [],
   "source": [
    "# 데이터프레임 df를 복제하여 변수 df3에 저장\n",
    "# df3의 2개 행(row)을 삭제\n"
   ]
  },
  {
   "cell_type": "markdown",
   "metadata": {},
   "source": [
    "### 열 삭제"
   ]
  },
  {
   "cell_type": "code",
   "execution_count": 92,
   "metadata": {},
   "outputs": [],
   "source": [
    "# 데이터프레임 df를 복제하여 변수 df4에 저장\n",
    "# df4의 1개 열(column)을 삭제\n"
   ]
  },
  {
   "cell_type": "code",
   "execution_count": 93,
   "metadata": {},
   "outputs": [],
   "source": [
    "# 데이터프레임 df를 복제하여 변수 df5에 저장\n",
    "# df5의 2개 열(column)을 삭제\n"
   ]
  },
  {
   "cell_type": "markdown",
   "metadata": {},
   "source": [
    "## 행 선택\n",
    "~~~python\n",
    "df.loc[행 이름] / df.iloc[인덱스]\n",
    "~~~"
   ]
  },
  {
   "cell_type": "code",
   "execution_count": 94,
   "metadata": {},
   "outputs": [],
   "source": [
    "# 행 인덱스를 사용하여 행 1개를 선택\n",
    "# loc 인덱서 활용\n",
    "\n",
    "# iloc 인덱서 활용\n"
   ]
  },
  {
   "cell_type": "code",
   "execution_count": 95,
   "metadata": {},
   "outputs": [],
   "source": [
    "# 행 인덱스를 사용하여 2개 이상의 행 선택\n",
    "# loc 인덱서 활용\n",
    "\n",
    "# iloc 인덱서 활용\n"
   ]
  },
  {
   "cell_type": "code",
   "execution_count": 96,
   "metadata": {},
   "outputs": [],
   "source": [
    "# 행 인덱스의 범위를 지정하여 행 선택\n",
    "# loc 인덱서 활용\n",
    "\n",
    "# iloc 인덱서 활용\n",
    "\n"
   ]
  },
  {
   "cell_type": "markdown",
   "metadata": {},
   "source": [
    "### 행 선택 심화 ‼️"
   ]
  },
  {
   "cell_type": "code",
   "execution_count": 97,
   "metadata": {},
   "outputs": [],
   "source": [
    "# iloc 슬라이싱 간격\n",
    "# 행 인덱스를 사용하여 iloc로 홀수 행만 출력\n"
   ]
  },
  {
   "cell_type": "markdown",
   "metadata": {},
   "source": [
    "## 열 선택\n",
    "~~~python\n",
    "열 1개 선택 : df[열 이름] / df.열 이름 (열 이름이 문자열일 경우만 가능)\n",
    "열 n개 선택 : df[열 이름 배열]\n",
    "~~~"
   ]
  },
  {
   "cell_type": "code",
   "execution_count": 98,
   "metadata": {},
   "outputs": [],
   "source": [
    "# '수학' 점수 데이터만 선택\n",
    "# 변수 math1에 저장\n"
   ]
  },
  {
   "cell_type": "code",
   "execution_count": 99,
   "metadata": {},
   "outputs": [],
   "source": [
    "# '영어' 점수 데이터만 선택\n",
    "# 변수 english에 저장\n"
   ]
  },
  {
   "cell_type": "code",
   "execution_count": 100,
   "metadata": {},
   "outputs": [],
   "source": [
    "# '음악', '체육' 점수 데이터를 선택\n",
    "# 변수 music_gym 에 저장\n",
    "\n"
   ]
  },
  {
   "cell_type": "code",
   "execution_count": 101,
   "metadata": {},
   "outputs": [],
   "source": [
    "# '수학' 점수 데이터만 선택\n",
    "# 변수 math2에 저장\n",
    "\n"
   ]
  },
  {
   "cell_type": "markdown",
   "metadata": {},
   "source": [
    "## 원소 선택\n",
    "~~~python\n",
    "인덱스 이름 : df.loc[행 이름, 열 이름]\n",
    "정수형 : df.iloc[행 번호, 열 번호]\n",
    "~~~"
   ]
  },
  {
   "cell_type": "code",
   "execution_count": 102,
   "metadata": {},
   "outputs": [],
   "source": [
    "# '이름' 열을 새로운 인덱스로 지정하고, df 객체에 변경사항 반영\n",
    "# 새로운 인덱스 지정: df.set_index()\n"
   ]
  },
  {
   "cell_type": "code",
   "execution_count": 103,
   "metadata": {},
   "outputs": [],
   "source": [
    "# 데이터프레임 df의 특정 원소 1개 선택 ('서준'의 '음악' 점수)\n"
   ]
  },
  {
   "cell_type": "code",
   "execution_count": 104,
   "metadata": {},
   "outputs": [],
   "source": [
    "# 데이터프레임 df의 특정 원소 2개 이상 선택 ('서준'의 '음악', '체육' 점수) \n"
   ]
  },
  {
   "cell_type": "code",
   "execution_count": 105,
   "metadata": {},
   "outputs": [],
   "source": [
    "# df의 2개 이상의 행과 열로부터 원소 선택 ('서준', '우현'의 '음악', '체육' 점수) \n"
   ]
  },
  {
   "cell_type": "markdown",
   "metadata": {},
   "source": [
    "## 열 추가\n",
    "~~~python\n",
    "df[추가 하려는 열 이름] = (시리즈) 데이터\n",
    "~~~"
   ]
  },
  {
   "cell_type": "code",
   "execution_count": 106,
   "metadata": {},
   "outputs": [],
   "source": [
    "# 데이터프레임 df에 '국어' 점수 열(column)을 추가\n",
    "# 데이터 값은 80 지정\n"
   ]
  },
  {
   "cell_type": "markdown",
   "metadata": {},
   "source": [
    "## 행 추가\n",
    "~~~python\n",
    "df.loc[새로운 행 이름] = (시리즈) 데이터\n",
    "~~~"
   ]
  },
  {
   "cell_type": "code",
   "execution_count": 112,
   "metadata": {},
   "outputs": [],
   "source": [
    "# 새로운 행(row)을 추가 - 같은 원소 값을 입력\n",
    "# 데이터 = 0\n"
   ]
  },
  {
   "cell_type": "code",
   "execution_count": 114,
   "metadata": {},
   "outputs": [],
   "source": [
    "# 새로운 행(row)을 추가 - 원소 값 여러 개의 배열 입력\n",
    "# 데이터 = ['동규', 90, 80, 70, 60]\n"
   ]
  },
  {
   "cell_type": "code",
   "execution_count": 113,
   "metadata": {},
   "outputs": [],
   "source": [
    "# 새로운 행(row)을 추가 - 기존 행을 복사\n",
    "# 3번째 행 복사\n"
   ]
  },
  {
   "cell_type": "markdown",
   "metadata": {},
   "source": [
    "## 원소 값 변경\n",
    "~~~python\n",
    "df 객체 또는 원소 선택 = 데이터\n",
    "~~~"
   ]
  },
  {
   "cell_type": "code",
   "execution_count": 115,
   "metadata": {},
   "outputs": [],
   "source": [
    "# '이름' 열을 새로운 인덱스로 지정하고, df 객체에 변경사항 반영\n",
    "# 새로운 인덱스 지정: df.set_index()\n"
   ]
  },
  {
   "cell_type": "code",
   "execution_count": 117,
   "metadata": {},
   "outputs": [],
   "source": [
    "# 데이터프레임 df의 특정 원소를 변경하는 방법: '서준'의 '체육' 점수\n",
    "# iloc - 80\n"
   ]
  },
  {
   "cell_type": "code",
   "execution_count": 118,
   "metadata": {},
   "outputs": [],
   "source": [
    "# loc - 90\n"
   ]
  },
  {
   "cell_type": "code",
   "execution_count": 119,
   "metadata": {},
   "outputs": [],
   "source": [
    "# loc - 100\n"
   ]
  },
  {
   "cell_type": "code",
   "execution_count": 120,
   "metadata": {},
   "outputs": [],
   "source": [
    "# 데이터프레임 df의 원소 여러 개를 변경하는 방법: '서준'의 '음악', '체육' 점수\n",
    "# loc - 50\n"
   ]
  },
  {
   "cell_type": "code",
   "execution_count": 121,
   "metadata": {},
   "outputs": [],
   "source": [
    "# loc - 100, 50\n"
   ]
  },
  {
   "cell_type": "markdown",
   "metadata": {},
   "source": [
    "## 행, 열의 위치 바꾸기\n",
    "~~~python\n",
    "df.transpose() / df.T\n",
    "~~~"
   ]
  },
  {
   "cell_type": "code",
   "execution_count": null,
   "metadata": {},
   "outputs": [],
   "source": [
    "# 데이터프레임 df를 전치하기 (transpose() 메소드 활용)\n"
   ]
  },
  {
   "cell_type": "code",
   "execution_count": 122,
   "metadata": {},
   "outputs": [],
   "source": [
    "# 데이터프레임 df를 다시 전치하기 (T 클래스 속성 활용)\n"
   ]
  },
  {
   "cell_type": "markdown",
   "metadata": {},
   "source": [
    "## 특정 열을 행 인덱스로 설정\n",
    "~~~python\n",
    "df.set_index([열 이름]) / df.set_index(열 이름)\n",
    "~~~"
   ]
  },
  {
   "cell_type": "code",
   "execution_count": 123,
   "metadata": {},
   "outputs": [],
   "source": [
    "# 특정 열(column)을 데이터프레임의 행 인덱스(index)로 설정 \n",
    "# '이름'\n"
   ]
  },
  {
   "cell_type": "code",
   "execution_count": 125,
   "metadata": {},
   "outputs": [],
   "source": [
    "# 특정 열(column)을 데이터프레임의 행 인덱스(index)로 설정 \n",
    "# '음악'\n"
   ]
  },
  {
   "cell_type": "code",
   "execution_count": 127,
   "metadata": {},
   "outputs": [],
   "source": [
    "# 특정 열(column)을 데이터프레임의 행 인덱스(index)로 설정 \n",
    "# '수학', '음악'\n"
   ]
  },
  {
   "cell_type": "markdown",
   "metadata": {},
   "source": [
    "## 행 인덱스 재배열\n",
    "~~~python\n",
    "df.reindex(새로운 인덱스 배열)\n",
    "~~~"
   ]
  },
  {
   "cell_type": "code",
   "execution_count": 128,
   "metadata": {},
   "outputs": [],
   "source": [
    "# 딕셔서리를 데이터프레임으로 변환\n",
    "# index = [r0, r1, r2]\n",
    "dict_data = {'c0':[1,2,3], 'c1':[4,5,6], 'c2':[7,8,9], 'c3':[10,11,12], 'c4':[13,14,15]}\n"
   ]
  },
  {
   "cell_type": "code",
   "execution_count": 129,
   "metadata": {},
   "outputs": [],
   "source": [
    "# 인덱스 재지정\n",
    "# index = [r0, r1, r2, r3, r4] \n"
   ]
  },
  {
   "cell_type": "code",
   "execution_count": 130,
   "metadata": {},
   "outputs": [],
   "source": [
    "# reindex로 발생한 NaN값을 숫자 0으로 채우기\n",
    "# fill_value \n"
   ]
  },
  {
   "cell_type": "markdown",
   "metadata": {},
   "source": [
    "## 행 인덱스 초기화\n",
    "~~~python\n",
    "df.reset_index()\n",
    "~~~"
   ]
  },
  {
   "cell_type": "code",
   "execution_count": 131,
   "metadata": {},
   "outputs": [],
   "source": [
    "# 행 인덱스를 정수형으로 초기화 \n"
   ]
  },
  {
   "cell_type": "markdown",
   "metadata": {},
   "source": [
    "## 행 인덱스를 기준으로 데이터프레임 정렬\n",
    "~~~python\n",
    "df.sort_index()\n",
    "~~~"
   ]
  },
  {
   "cell_type": "code",
   "execution_count": 132,
   "metadata": {},
   "outputs": [],
   "source": [
    "# 내림차순으로 행 인덱스 정렬 \n",
    "# ascending 클래스 속성\n"
   ]
  },
  {
   "cell_type": "markdown",
   "metadata": {},
   "source": [
    "## 특정 열의 데이터 값을 기준으로 데이터프레임 정렬\n",
    "~~~python\n",
    "df.sort_values()\n",
    "~~~"
   ]
  },
  {
   "cell_type": "code",
   "execution_count": 133,
   "metadata": {},
   "outputs": [],
   "source": [
    "# c1 열을 기준으로 내림차순 정렬\n",
    "# by 클래스 속성\n"
   ]
  },
  {
   "cell_type": "markdown",
   "metadata": {},
   "source": [
    "## 시리즈와 숫자\n",
    "~~~python\n",
    "Series + 연산자(+, -, *, /) + 숫자\n",
    "~~~"
   ]
  },
  {
   "cell_type": "code",
   "execution_count": 134,
   "metadata": {},
   "outputs": [],
   "source": [
    "# 딕셔너리 데이터로 판다스 시리즈 만들기\n",
    "# 딕셔너리 = {'국어':100, '영어':80, '수학':90}\n"
   ]
  },
  {
   "cell_type": "code",
   "execution_count": 135,
   "metadata": {},
   "outputs": [],
   "source": [
    "# 학생의 과목별 점수를 200으로 나누기\n"
   ]
  },
  {
   "cell_type": "markdown",
   "metadata": {},
   "source": [
    "## 시리즈와 시리즈\n",
    "~~~python\n",
    "Series + 연산자(+, -, *, /) + Series\n",
    "~~~"
   ]
  },
  {
   "cell_type": "code",
   "execution_count": 136,
   "metadata": {},
   "outputs": [],
   "source": [
    "# 딕셔너리 데이터로 판다스 시리즈 만들기\n",
    "# 딕셔너리 1 = {'국어':100, '영어':80, '수학':90}\n",
    "# 딕셔너리 2 = {'수학':80, '국어':90, '영어':80}\n"
   ]
  },
  {
   "cell_type": "code",
   "execution_count": 137,
   "metadata": {},
   "outputs": [],
   "source": [
    "# 두 학생의 과목별 점수로 사칙연산 수행\n",
    "#덧셈\n",
    "\n",
    "#뺄셈\n",
    "\n",
    "#곱셈\n",
    "\n",
    "#나눗셈\n"
   ]
  },
  {
   "cell_type": "code",
   "execution_count": 138,
   "metadata": {},
   "outputs": [],
   "source": [
    "# 사칙연산 결과를 데이터프레임으로 합치기 (시리즈 -> 데이터프레임)\n",
    "# index=['덧셈', '뺄셈', '곱셈', '나눗셈']\n"
   ]
  },
  {
   "cell_type": "markdown",
   "metadata": {},
   "source": [
    "### 시리즈와 시리즈 - NaN"
   ]
  },
  {
   "cell_type": "code",
   "execution_count": 139,
   "metadata": {},
   "outputs": [],
   "source": [
    "# 딕셔너리 데이터로 판다스 시리즈 만들기\n",
    "# 딕셔너리 1 = {'국어':np.nan, '영어':80, '수학':90}\n",
    "# 딕셔너리 2 = {'수학':80, '국어':90}\n"
   ]
  },
  {
   "cell_type": "code",
   "execution_count": 140,
   "metadata": {},
   "outputs": [],
   "source": [
    "# 두 학생의 과목별 점수로 사칙연산 수행\n",
    "#덧셈\n",
    "\n",
    "#뺄셈\n",
    "\n",
    "#곱셈\n",
    "\n",
    "#나눗셈\n"
   ]
  },
  {
   "cell_type": "code",
   "execution_count": 141,
   "metadata": {},
   "outputs": [],
   "source": [
    "# 사칙연산 결과를 데이터프레임으로 합치기 (시리즈 -> 데이터프레임)\n",
    "# index=['덧셈', '뺄셈', '곱셈', '나눗셈']\n"
   ]
  },
  {
   "cell_type": "markdown",
   "metadata": {},
   "source": [
    "## 연산 메서드\n",
    "~~~python\n",
    "연산 결과 NaN 값 대체 : fill_value()\n",
    "~~~"
   ]
  },
  {
   "cell_type": "code",
   "execution_count": 142,
   "metadata": {},
   "outputs": [],
   "source": [
    "# 딕셔너리 데이터로 판다스 시리즈 만들기\n",
    "# 딕셔너리 1 = {'국어':np.nan, '영어':80, '수학':90}\n",
    "# 딕셔너리 2 = {'수학':80, '국어':90}\n"
   ]
  },
  {
   "cell_type": "code",
   "execution_count": 143,
   "metadata": {},
   "outputs": [],
   "source": [
    "# 두 학생의 과목별 점수로 사칙연산 수행 (연산 메소드 사용)\n",
    "# fill_value, 0\n",
    "\n",
    "#덧셈\n",
    "\n",
    "#뺄셈\n",
    "\n",
    "#곱셈\n",
    "\n",
    "#나눗셈\n"
   ]
  },
  {
   "cell_type": "code",
   "execution_count": 144,
   "metadata": {},
   "outputs": [],
   "source": [
    "# 사칙연산 결과를 데이터프레임으로 합치기 (시리즈 -> 데이터프레임)\n",
    "# index=['덧셈', '뺄셈', '곱셈', '나눗셈']\n"
   ]
  },
  {
   "cell_type": "markdown",
   "metadata": {},
   "source": [
    "## 데이터 프레임과 숫자\n",
    "~~~python\n",
    "DataFrame + 연산자(+, -, *, /) + 숫자\n",
    "~~~"
   ]
  },
  {
   "cell_type": "code",
   "execution_count": 150,
   "metadata": {},
   "outputs": [],
   "source": [
    "import seaborn as sns\n",
    "\n",
    "# titanic 데이터셋에서 age, fare 2개 열을 선택하여 데이터프레임 만들기\n",
    "# 열 = [\"age\", \"fare\"]\n",
    "titanic = sns.load_dataset('titanic')\n"
   ]
  },
  {
   "cell_type": "code",
   "execution_count": 151,
   "metadata": {},
   "outputs": [],
   "source": [
    "# 데이터프레임에 숫자 10 더하기\n"
   ]
  },
  {
   "cell_type": "markdown",
   "metadata": {},
   "source": [
    "## 데이터 프레임과 데이터 프레임\n",
    "~~~python\n",
    "DataFrame + 연산자(+, -, *, /) + DataFrame\n",
    "~~~"
   ]
  },
  {
   "cell_type": "code",
   "execution_count": 152,
   "metadata": {},
   "outputs": [],
   "source": [
    "# titanic 데이터셋에서 age, fare 2개 열을 선택하여 데이터프레임 만들기\n",
    "# 열 = [\"age\", \"fare\"]\n",
    "titanic = sns.load_dataset('titanic')\n"
   ]
  },
  {
   "cell_type": "code",
   "execution_count": 153,
   "metadata": {},
   "outputs": [],
   "source": [
    "# 데이터프레임에 숫자 10 더하기\n"
   ]
  },
  {
   "cell_type": "code",
   "execution_count": 154,
   "metadata": {},
   "outputs": [],
   "source": [
    "# 데이터프레임끼리 연산하기 (additon - df)\n"
   ]
  }
 ],
 "metadata": {
  "kernelspec": {
   "display_name": "Python 3",
   "language": "python",
   "name": "python3"
  },
  "language_info": {
   "codemirror_mode": {
    "name": "ipython",
    "version": 3
   },
   "file_extension": ".py",
   "mimetype": "text/x-python",
   "name": "python",
   "nbconvert_exporter": "python",
   "pygments_lexer": "ipython3",
   "version": "3.7.4"
  }
 },
 "nbformat": 4,
 "nbformat_minor": 2
}
