{
 "cells": [
  {
   "cell_type": "code",
   "execution_count": 1,
   "metadata": {},
   "outputs": [
    {
     "data": {
      "application/vnd.jupyter.widget-view+json": {
       "model_id": "ad0e2dc180a64f4b94e2f846e0d4403b",
       "version_major": 2,
       "version_minor": 0
      },
      "text/plain": [
       "Output()"
      ]
     },
     "metadata": {},
     "output_type": "display_data"
    },
    {
     "data": {
      "application/vnd.jupyter.widget-view+json": {
       "model_id": "e2b4186bf0424076a00339c6b8a6e4bb",
       "version_major": 2,
       "version_minor": 0
      },
      "text/plain": [
       "Output()"
      ]
     },
     "metadata": {},
     "output_type": "display_data"
    },
    {
     "data": {
      "application/vnd.jupyter.widget-view+json": {
       "model_id": "23d54f2709b34222aca8a06b69d64089",
       "version_major": 2,
       "version_minor": 0
      },
      "text/plain": [
       "Output()"
      ]
     },
     "metadata": {},
     "output_type": "display_data"
    },
    {
     "data": {
      "application/vnd.jupyter.widget-view+json": {
       "model_id": "74c6366bde2048ba84ddc4cd82375c06",
       "version_major": 2,
       "version_minor": 0
      },
      "text/plain": [
       "HBox(children=(IntProgress(value=0, description='Annual reports', max=5, style=ProgressStyle(description_width…"
      ]
     },
     "metadata": {},
     "output_type": "display_data"
    },
    {
     "name": "stdout",
     "output_type": "stream",
     "text": [
      "\n"
     ]
    },
    {
     "data": {
      "application/vnd.jupyter.widget-view+json": {
       "model_id": "d98635d764e44ea5b85709d2c739a10f",
       "version_major": 2,
       "version_minor": 0
      },
      "text/plain": [
       "HBox(children=(IntProgress(value=0, description='Annual reports', max=5, style=ProgressStyle(description_width…"
      ]
     },
     "metadata": {},
     "output_type": "display_data"
    },
    {
     "name": "stdout",
     "output_type": "stream",
     "text": [
      "\n"
     ]
    },
    {
     "data": {
      "application/vnd.jupyter.widget-view+json": {
       "model_id": "5e2a00451d1344ebac17d2865036afe7",
       "version_major": 2,
       "version_minor": 0
      },
      "text/plain": [
       "HBox(children=(IntProgress(value=0, description='Annual reports', max=5, style=ProgressStyle(description_width…"
      ]
     },
     "metadata": {},
     "output_type": "display_data"
    },
    {
     "name": "stdout",
     "output_type": "stream",
     "text": [
      "\n",
      "00130897 의 기업 정보가 없습니다.\n"
     ]
    },
    {
     "data": {
      "application/vnd.jupyter.widget-view+json": {
       "model_id": "1b2fd2957c994eb5a14f95d70fa42b00",
       "version_major": 2,
       "version_minor": 0
      },
      "text/plain": [
       "HBox(children=(IntProgress(value=0, description='Annual reports', max=5, style=ProgressStyle(description_width…"
      ]
     },
     "metadata": {},
     "output_type": "display_data"
    },
    {
     "name": "stdout",
     "output_type": "stream",
     "text": [
      "\n"
     ]
    },
    {
     "data": {
      "application/vnd.jupyter.widget-view+json": {
       "model_id": "6de99a698842482eb4ff7594279c6aa8",
       "version_major": 2,
       "version_minor": 0
      },
      "text/plain": [
       "HBox(children=(IntProgress(value=0, description='Annual reports', max=5, style=ProgressStyle(description_width…"
      ]
     },
     "metadata": {},
     "output_type": "display_data"
    },
    {
     "name": "stdout",
     "output_type": "stream",
     "text": [
      "\n",
      "00201692 의 기업 정보가 없습니다.\n"
     ]
    }
   ],
   "source": [
    "import dart_fss as dart\n",
    "import pandas as pd\n",
    "import os\n",
    "\n",
    "\n",
    "api_key='1ed4a4873cb9557629a64dc0c163cb2bb438f3a4'\n",
    "dart.set_api_key(api_key=api_key)\n",
    "\n",
    "#  삼우 code\n",
    "corp_code_list = ['00237710', '00266961', '00258801', '00130897', '00254045', '00386937', '00201692', ]\n",
    "\n",
    "# 데이터 프레임 생성\n",
    "df_income = pd.DataFrame()\n",
    "\n",
    "for corp_code in corp_code_list:\n",
    "    # 모든 상장된 기업 리스트 불러오기\n",
    "    try:\n",
    "        corp_list = dart.get_corp_list()\n",
    "\n",
    "        # 삼성전자\n",
    "        samwoo = corp_list.find_by_corp_code(corp_code=corp_code)\n",
    "\n",
    "        # 2012년 01월 01일 부터 연결재무제표 검색\n",
    "        # fs = samsung.extract_fs(bgn_de='20120101') 와 동일\n",
    "        fs = dart.fs.extract(corp_code=corp_code, bgn_de='20170101',separate=True)\n",
    "\n",
    "\n",
    "        # ,separate=True\n",
    "        # 연결재무상태표\n",
    "        df_fs = fs['bs'] # 또는 df = fs[0] 또는 df = fs.show('bs')\n",
    "        # 연결재무상태표 추출에 사용된 Label 정보\n",
    "        labels_fs = fs.labels['bs']\n",
    "\n",
    "        # 연결손익계산서\n",
    "        df_is = fs['is'] # 또는 df = fs[1] 또는 df = fs.show('is')\n",
    "        # 연결손익계산서 추출에 사용된 Label 정보\n",
    "        labels_is = fs.labels['is']\n",
    "\n",
    "        # 연결포괄손익계산서\n",
    "        df_ci = fs['cis'] # 또는 df = fs[2] 또는 df = fs.show('cis')\n",
    "        # 연결포괄손익계산서 추출에 사용된 Label 정보\n",
    "        labels_ci = fs.labels['cis']\n",
    "\n",
    "        # 현금흐름표\n",
    "        df_cf = fs['cf'] # 또는 df = fs[3] 또는 df = fs.show('cf')\n",
    "        # 현금흐름표 추출에 사용된 Label 정보\n",
    "        labels_cf = fs.labels['cf']\n",
    "\n",
    "        # 재무제표 일괄저장 (default: 실행폴더/fsdata/{corp_code}_{report_tp}.xlsx)\n",
    "        # fs.save()\n",
    "\n",
    "        # 재무제표 일괄저장\n",
    "        filename = str(corp_code) + '_rev01.xlsx'\n",
    "\n",
    "        # fsdata 경로 지정 \n",
    "        path = os.path.join(os.path.curdir, \"fsdata\")\n",
    "\n",
    "        # fsdata 디렉토리가 없으면 만들고 파일 경로 지정\n",
    "        if os.path.isdir(path) != True:\n",
    "            os.mkdir(path)\n",
    "            file_path = os.path.join(path, filename)\n",
    "        else:\n",
    "            file_path = os.path.join(path, filename)\n",
    "        fs.save(filename,path)\n",
    "\n",
    "\n",
    "\n",
    "\n",
    "        # data_is / data_cis sheet 찾기\n",
    "        sheet_name = [i for i in (pd.ExcelFile(file_path).sheet_names) if \"data\" and \"is\" in str(i).lower() and \"label\" not in str(i).lower()][0]\n",
    "\n",
    "        df = pd.read_excel(file_path, sheet_name=sheet_name)\n",
    "\n",
    "        # \"label_ko\"가 있는 행을 인덱스로 지정 -> 영업이익을 인덱스로 활용하기 위해\n",
    "        label_ko_idx = [idx for idx, val in enumerate(df.iloc[0, :].isin([\"label_ko\"])) if val==True][0]\n",
    "        df.set_index(df.columns[label_ko_idx], inplace=True)\n",
    "\n",
    "        # 영업이익 추출\n",
    "        income_idx = [i for i in list(df.index) if \"영업이익\" in str(i)][0]\n",
    "        income_col = ['20200101-20201231', '20190101-20191231','20180101-20181231', \n",
    "                  '20170101-20171231', '20160101-20161231','20150101-20151231']\n",
    "        df = df.loc[[income_idx], income_col]\n",
    "\n",
    "        # 인덱스를 기업 코드로 변경\n",
    "        df.rename(index={income_idx: corp_code}, inplace=True)\n",
    "\n",
    "        # df_income 에 concat\n",
    "        if len(df_income) == 0:\n",
    "            for col in df.columns:\n",
    "                df_income[col] = df[col]\n",
    "        else:\n",
    "            df_income = pd.concat([df_income, df])\n",
    "            \n",
    "    except:\n",
    "        print(corp_code, \"의 기업 정보가 없습니다.\")\n",
    "        pass"
   ]
  },
  {
   "cell_type": "code",
   "execution_count": 2,
   "metadata": {},
   "outputs": [
    {
     "data": {
      "text/html": [
       "<div>\n",
       "<style scoped>\n",
       "    .dataframe tbody tr th:only-of-type {\n",
       "        vertical-align: middle;\n",
       "    }\n",
       "\n",
       "    .dataframe tbody tr th {\n",
       "        vertical-align: top;\n",
       "    }\n",
       "\n",
       "    .dataframe thead th {\n",
       "        text-align: right;\n",
       "    }\n",
       "</style>\n",
       "<table border=\"1\" class=\"dataframe\">\n",
       "  <thead>\n",
       "    <tr style=\"text-align: right;\">\n",
       "      <th></th>\n",
       "      <th>20200101-20201231</th>\n",
       "      <th>20190101-20191231</th>\n",
       "      <th>20180101-20181231</th>\n",
       "      <th>20170101-20171231</th>\n",
       "      <th>20160101-20161231</th>\n",
       "      <th>20150101-20151231</th>\n",
       "    </tr>\n",
       "  </thead>\n",
       "  <tbody>\n",
       "    <tr>\n",
       "      <td>00237710</td>\n",
       "      <td>5893759098</td>\n",
       "      <td>1205494027</td>\n",
       "      <td>2788338039</td>\n",
       "      <td>2560462984</td>\n",
       "      <td>4149382043</td>\n",
       "      <td>2392679271</td>\n",
       "    </tr>\n",
       "    <tr>\n",
       "      <td>00266961</td>\n",
       "      <td>1440813731880</td>\n",
       "      <td>1393811994426</td>\n",
       "      <td>1263548953129</td>\n",
       "      <td>1178237472725</td>\n",
       "      <td>968350907579</td>\n",
       "      <td>826491297771</td>\n",
       "    </tr>\n",
       "    <tr>\n",
       "      <td>00258801</td>\n",
       "      <td>300064492177</td>\n",
       "      <td>196063924523</td>\n",
       "      <td>122366055178</td>\n",
       "      <td>97550822849</td>\n",
       "      <td>70994504761</td>\n",
       "      <td>120590601375</td>\n",
       "    </tr>\n",
       "    <tr>\n",
       "      <td>00254045</td>\n",
       "      <td>1765336</td>\n",
       "      <td>2471553</td>\n",
       "      <td>2415691</td>\n",
       "      <td>1790558</td>\n",
       "      <td>1270501</td>\n",
       "      <td>1090372</td>\n",
       "    </tr>\n",
       "    <tr>\n",
       "      <td>00386937</td>\n",
       "      <td>3630433000000</td>\n",
       "      <td>3432228000000</td>\n",
       "      <td>3116896000000</td>\n",
       "      <td>2757771000000</td>\n",
       "      <td>1432923000000</td>\n",
       "      <td>1903599000000</td>\n",
       "    </tr>\n",
       "  </tbody>\n",
       "</table>\n",
       "</div>"
      ],
      "text/plain": [
       "         20200101-20201231 20190101-20191231 20180101-20181231  \\\n",
       "00237710        5893759098        1205494027        2788338039   \n",
       "00266961     1440813731880     1393811994426     1263548953129   \n",
       "00258801      300064492177      196063924523      122366055178   \n",
       "00254045           1765336           2471553           2415691   \n",
       "00386937     3630433000000     3432228000000     3116896000000   \n",
       "\n",
       "         20170101-20171231 20160101-20161231 20150101-20151231  \n",
       "00237710        2560462984        4149382043        2392679271  \n",
       "00266961     1178237472725      968350907579      826491297771  \n",
       "00258801       97550822849       70994504761      120590601375  \n",
       "00254045           1790558           1270501           1090372  \n",
       "00386937     2757771000000     1432923000000     1903599000000  "
      ]
     },
     "execution_count": 2,
     "metadata": {},
     "output_type": "execute_result"
    }
   ],
   "source": [
    "df_income"
   ]
  },
  {
   "cell_type": "code",
   "execution_count": 7,
   "metadata": {},
   "outputs": [],
   "source": [
    "df_income.to_excel(\"income_report.xlsx\")"
   ]
  },
  {
   "cell_type": "code",
   "execution_count": 10,
   "metadata": {},
   "outputs": [
    {
     "data": {
      "text/html": [
       "<div>\n",
       "<style scoped>\n",
       "    .dataframe tbody tr th:only-of-type {\n",
       "        vertical-align: middle;\n",
       "    }\n",
       "\n",
       "    .dataframe tbody tr th {\n",
       "        vertical-align: top;\n",
       "    }\n",
       "\n",
       "    .dataframe thead th {\n",
       "        text-align: right;\n",
       "    }\n",
       "</style>\n",
       "<table border=\"1\" class=\"dataframe\">\n",
       "  <thead>\n",
       "    <tr style=\"text-align: right;\">\n",
       "      <th></th>\n",
       "      <th>20200101-20201231</th>\n",
       "      <th>20190101-20191231</th>\n",
       "      <th>20180101-20181231</th>\n",
       "      <th>20170101-20171231</th>\n",
       "      <th>20160101-20161231</th>\n",
       "      <th>20150101-20151231</th>\n",
       "    </tr>\n",
       "  </thead>\n",
       "  <tbody>\n",
       "    <tr>\n",
       "      <td>237710</td>\n",
       "      <td>5893759098</td>\n",
       "      <td>1205494027</td>\n",
       "      <td>2788338039</td>\n",
       "      <td>2560462984</td>\n",
       "      <td>4149382043</td>\n",
       "      <td>2392679271</td>\n",
       "    </tr>\n",
       "    <tr>\n",
       "      <td>266961</td>\n",
       "      <td>1440813731880</td>\n",
       "      <td>1393811994426</td>\n",
       "      <td>1263548953129</td>\n",
       "      <td>1178237472725</td>\n",
       "      <td>968350907579</td>\n",
       "      <td>826491297771</td>\n",
       "    </tr>\n",
       "    <tr>\n",
       "      <td>258801</td>\n",
       "      <td>300064492177</td>\n",
       "      <td>196063924523</td>\n",
       "      <td>122366055178</td>\n",
       "      <td>97550822849</td>\n",
       "      <td>70994504761</td>\n",
       "      <td>120590601375</td>\n",
       "    </tr>\n",
       "    <tr>\n",
       "      <td>254045</td>\n",
       "      <td>1765336</td>\n",
       "      <td>2471553</td>\n",
       "      <td>2415691</td>\n",
       "      <td>1790558</td>\n",
       "      <td>1270501</td>\n",
       "      <td>1090372</td>\n",
       "    </tr>\n",
       "    <tr>\n",
       "      <td>386937</td>\n",
       "      <td>3630433000000</td>\n",
       "      <td>3432228000000</td>\n",
       "      <td>3116896000000</td>\n",
       "      <td>2757771000000</td>\n",
       "      <td>1432923000000</td>\n",
       "      <td>1903599000000</td>\n",
       "    </tr>\n",
       "  </tbody>\n",
       "</table>\n",
       "</div>"
      ],
      "text/plain": [
       "        20200101-20201231  20190101-20191231  20180101-20181231  \\\n",
       "237710         5893759098         1205494027         2788338039   \n",
       "266961      1440813731880      1393811994426      1263548953129   \n",
       "258801       300064492177       196063924523       122366055178   \n",
       "254045            1765336            2471553            2415691   \n",
       "386937      3630433000000      3432228000000      3116896000000   \n",
       "\n",
       "        20170101-20171231  20160101-20161231  20150101-20151231  \n",
       "237710         2560462984         4149382043         2392679271  \n",
       "266961      1178237472725       968350907579       826491297771  \n",
       "258801        97550822849        70994504761       120590601375  \n",
       "254045            1790558            1270501            1090372  \n",
       "386937      2757771000000      1432923000000      1903599000000  "
      ]
     },
     "execution_count": 10,
     "metadata": {},
     "output_type": "execute_result"
    }
   ],
   "source": [
    "df = pd.read_excel(\"income_report.xlsx\",index_col=\"Unnamed: 0\")\n",
    "df"
   ]
  }
 ],
 "metadata": {
  "kernelspec": {
   "display_name": "Python 3",
   "language": "python",
   "name": "python3"
  },
  "language_info": {
   "codemirror_mode": {
    "name": "ipython",
    "version": 3
   },
   "file_extension": ".py",
   "mimetype": "text/x-python",
   "name": "python",
   "nbconvert_exporter": "python",
   "pygments_lexer": "ipython3",
   "version": "3.7.4"
  }
 },
 "nbformat": 4,
 "nbformat_minor": 2
}
