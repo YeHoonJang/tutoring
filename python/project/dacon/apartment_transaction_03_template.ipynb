{
 "cells": [
  {
   "cell_type": "markdown",
   "metadata": {},
   "source": [
    "# 아파트 실거래가 예측 - https://bit.ly/3v5edhJ\n",
    "\n",
    "### 부동산 빅데이터와 AI를 이용하여 실거래가를 예측 분석 | 회귀 | RMSE"
   ]
  },
  {
   "cell_type": "code",
   "execution_count": null,
   "metadata": {},
   "outputs": [],
   "source": [
    "import pandas as pd"
   ]
  },
  {
   "cell_type": "markdown",
   "metadata": {},
   "source": [
    "### 데이터 불러오기"
   ]
  },
  {
   "cell_type": "code",
   "execution_count": null,
   "metadata": {},
   "outputs": [],
   "source": [
    "park = \n",
    "park.head()"
   ]
  },
  {
   "cell_type": "code",
   "execution_count": null,
   "metadata": {},
   "outputs": [],
   "source": [
    "park.info()"
   ]
  },
  {
   "cell_type": "markdown",
   "metadata": {},
   "source": [
    "### 공원 타입 - Label Encoding"
   ]
  },
  {
   "cell_type": "code",
   "execution_count": null,
   "metadata": {},
   "outputs": [],
   "source": [
    "# 고유값 확인\n"
   ]
  },
  {
   "cell_type": "code",
   "execution_count": null,
   "metadata": {},
   "outputs": [],
   "source": [
    "from sklearn.preprocessing import LabelEncoder"
   ]
  },
  {
   "cell_type": "code",
   "execution_count": null,
   "metadata": {},
   "outputs": [],
   "source": [
    "# Label Encoding 호출 후 fit\n",
    "park_le = \n",
    "park_le.\n",
    "\n",
    "# df 변환\n",
    "park[\"park_type\"] = park_le.\n",
    "park[\"park_type\"].head()"
   ]
  },
  {
   "cell_type": "markdown",
   "metadata": {},
   "source": [
    "### 운동 기구"
   ]
  },
  {
   "cell_type": "code",
   "execution_count": null,
   "metadata": {},
   "outputs": [],
   "source": [
    "# 고유값 확인\n"
   ]
  },
  {
   "cell_type": "code",
   "execution_count": null,
   "metadata": {},
   "outputs": [],
   "source": [
    "# 운동기구가 하나라도 있으면 1, 하나도 없으면 0 으로 변환\n",
    "park[\"is_park_exercise_facility\"] = \n",
    "park[\"is_park_exercise_facility\"].head()"
   ]
  },
  {
   "cell_type": "markdown",
   "metadata": {},
   "source": [
    "### 놀이 기구"
   ]
  },
  {
   "cell_type": "code",
   "execution_count": null,
   "metadata": {},
   "outputs": [],
   "source": [
    "# 고유값 확인\n"
   ]
  },
  {
   "cell_type": "code",
   "execution_count": null,
   "metadata": {},
   "outputs": [],
   "source": [
    "# 놀이 기구가 하나라도 있으면 1, 하나도 없으면 0 으로 변환\n",
    "park[\"is_park_entertainment_facility\"] = \n",
    "park[\"is_park_entertainment_facility\"].head()"
   ]
  },
  {
   "cell_type": "markdown",
   "metadata": {},
   "source": [
    "### 편의 시설"
   ]
  },
  {
   "cell_type": "code",
   "execution_count": null,
   "metadata": {},
   "outputs": [],
   "source": [
    "# 고유값 확인\n"
   ]
  },
  {
   "cell_type": "code",
   "execution_count": null,
   "metadata": {},
   "outputs": [],
   "source": [
    "# 편의 시설이 하나라도 있으면 1, 하나도 없으면 0 으로 변환\n",
    "park[\"is_park_benefit_facility\"] = \n",
    "park[\"is_park_benefit_facility\"].head()"
   ]
  },
  {
   "cell_type": "markdown",
   "metadata": {},
   "source": [
    "### 문화 시설"
   ]
  },
  {
   "cell_type": "code",
   "execution_count": null,
   "metadata": {},
   "outputs": [],
   "source": [
    "# 고유값 확인\n"
   ]
  },
  {
   "cell_type": "code",
   "execution_count": null,
   "metadata": {},
   "outputs": [],
   "source": [
    "# 문화 시설이 하나라도 있으면 1, 하나도 없으면 0 으로 변환\n",
    "park[\"is_park_cultural_facitiy\"] = \n",
    "park[\"is_park_cultural_facitiy\"].head()"
   ]
  },
  {
   "cell_type": "markdown",
   "metadata": {},
   "source": [
    "### 기타 시설"
   ]
  },
  {
   "cell_type": "code",
   "execution_count": null,
   "metadata": {},
   "outputs": [],
   "source": [
    "# 고유값 확인\n"
   ]
  },
  {
   "cell_type": "code",
   "execution_count": null,
   "metadata": {},
   "outputs": [],
   "source": [
    "# 기타 시설이 하나라도 있으면 1, 하나도 없으면 0 으로 변환\n",
    "park[\"is_park_facility_other\"] = \n",
    "park[\"is_park_facility_other\"].head()"
   ]
  },
  {
   "cell_type": "code",
   "execution_count": null,
   "metadata": {},
   "outputs": [],
   "source": [
    "park.head()"
   ]
  },
  {
   "cell_type": "markdown",
   "metadata": {},
   "source": [
    "### 운동 기구, 놀이 기구, 편의 시설, 문화 시설, 기타 시설 drop"
   ]
  },
  {
   "cell_type": "code",
   "execution_count": null,
   "metadata": {},
   "outputs": [],
   "source": [
    "\n",
    "park.head(10)"
   ]
  },
  {
   "cell_type": "markdown",
   "metadata": {},
   "source": [
    "### train, test와 합치기 위해 city+dong"
   ]
  },
  {
   "cell_type": "code",
   "execution_count": null,
   "metadata": {},
   "outputs": [],
   "source": [
    "park[\"city_dong\"] = "
   ]
  },
  {
   "cell_type": "markdown",
   "metadata": {},
   "source": [
    "### 불필요한 column 삭제"
   ]
  },
  {
   "cell_type": "code",
   "execution_count": null,
   "metadata": {},
   "outputs": [],
   "source": [
    "\n",
    "park.head()"
   ]
  },
  {
   "cell_type": "markdown",
   "metadata": {},
   "source": [
    "### 각 동마다 공원 정보 평균치"
   ]
  },
  {
   "cell_type": "code",
   "execution_count": null,
   "metadata": {},
   "outputs": [],
   "source": [
    "# city_dong으로 groupby, 연산은 평균\n",
    "# nan값은 0으로 대치\n",
    "park = \n",
    "park.head()"
   ]
  },
  {
   "cell_type": "markdown",
   "metadata": {},
   "source": [
    "### train, test 데이터 불러오기"
   ]
  },
  {
   "cell_type": "code",
   "execution_count": null,
   "metadata": {},
   "outputs": [],
   "source": [
    "train_df \n",
    "test_df\n",
    "print(train_df.shape)\n",
    "train_df.head()"
   ]
  },
  {
   "cell_type": "code",
   "execution_count": null,
   "metadata": {},
   "outputs": [],
   "source": [
    "# 데이터 줄이기\n",
    "\n",
    "train_df = train_df.loc[train_df[\"transaction_id\"]%50==0, :]\n",
    "train_df = train_df.reset_index(drop=True)\n",
    "print(train_df.shape)\n",
    "train_df.head()"
   ]
  },
  {
   "cell_type": "code",
   "execution_count": null,
   "metadata": {},
   "outputs": [],
   "source": [
    "print(test_df.shape)\n",
    "test_df.head()"
   ]
  },
  {
   "cell_type": "code",
   "execution_count": null,
   "metadata": {},
   "outputs": [],
   "source": [
    "train_df.info()"
   ]
  },
  {
   "cell_type": "code",
   "execution_count": null,
   "metadata": {},
   "outputs": [],
   "source": [
    "test_df.info()"
   ]
  },
  {
   "cell_type": "markdown",
   "metadata": {},
   "source": [
    "### park와 합치기 위해 city+dong"
   ]
  },
  {
   "cell_type": "code",
   "execution_count": null,
   "metadata": {},
   "outputs": [],
   "source": [
    "train_df[\"city_dong\"] \n",
    "test_df[\"city_dong\"] "
   ]
  },
  {
   "cell_type": "markdown",
   "metadata": {},
   "source": [
    "### 데이터 프레임 join"
   ]
  },
  {
   "cell_type": "code",
   "execution_count": null,
   "metadata": {},
   "outputs": [],
   "source": [
    "# park 데이터프레임을 \"city_dong\" 컬럼을 기준으로 각각 train과 test에 join\n",
    "# nan 값은 0으로 대치\n",
    "train_df = \n",
    "test_df = "
   ]
  },
  {
   "cell_type": "code",
   "execution_count": null,
   "metadata": {},
   "outputs": [],
   "source": [
    "train_df.head()"
   ]
  },
  {
   "cell_type": "code",
   "execution_count": null,
   "metadata": {},
   "outputs": [],
   "source": [
    "test_df.head()"
   ]
  },
  {
   "cell_type": "markdown",
   "metadata": {},
   "source": [
    "## 아래는 02와 동일"
   ]
  },
  {
   "cell_type": "markdown",
   "metadata": {},
   "source": [
    "## city"
   ]
  },
  {
   "cell_type": "code",
   "execution_count": null,
   "metadata": {},
   "outputs": [],
   "source": [
    "train_df[\"city\"].unique()"
   ]
  },
  {
   "cell_type": "code",
   "execution_count": null,
   "metadata": {},
   "outputs": [],
   "source": [
    "test_df[\"city\"].unique()"
   ]
  },
  {
   "cell_type": "markdown",
   "metadata": {},
   "source": [
    "### Labeling"
   ]
  },
  {
   "cell_type": "code",
   "execution_count": null,
   "metadata": {},
   "outputs": [],
   "source": [
    "train_df.loc[train_df[\"city\"] == \"서울특별시\", \"city\"] = 0\n",
    "train_df.loc[train_df[\"city\"] == \"부산광역시\", \"city\"] = 1\n",
    "train_df[\"city\"] = train_df[\"city\"].astype('int')\n",
    "\n",
    "test_df.loc[test_df[\"city\"] == \"서울특별시\", \"city\"] = 0\n",
    "test_df.loc[test_df[\"city\"] == \"부산광역시\", \"city\"] = 1\n",
    "test_df[\"city\"] = test_df[\"city\"].astype('int')"
   ]
  },
  {
   "cell_type": "code",
   "execution_count": null,
   "metadata": {},
   "outputs": [],
   "source": [
    "train_df.head()"
   ]
  },
  {
   "cell_type": "markdown",
   "metadata": {},
   "source": [
    "## drop addr_kr, city_dong"
   ]
  },
  {
   "cell_type": "code",
   "execution_count": null,
   "metadata": {},
   "outputs": [],
   "source": [
    "train_df.drop(['addr_kr', 'city_dong'], axis=1, inplace=True)\n",
    "test_df.drop(['addr_kr', 'city_dong'], axis=1, inplace=True)"
   ]
  },
  {
   "cell_type": "markdown",
   "metadata": {},
   "source": [
    "## 한강이 보이는 동네"
   ]
  },
  {
   "cell_type": "code",
   "execution_count": null,
   "metadata": {},
   "outputs": [],
   "source": [
    "hanriver_dong = ['성수동1가','삼성동','이촌동','공덕동','서교동','한강로3가','목동','고덕동', '암사동', '천호동', '풍납동',\n",
    "                '잠실동', '청담동', '압구정동', '신사동', '잠원동', '반포동', '흑석동', '노량진동', '여의동', '당산동',\n",
    "                '양평동', '염창동', '가양동', '방화동']\n",
    "\n",
    "# isin을 사용해서 한강이 보이는 동네는 1, 아니면 0\n",
    "# True, False를 integer로 변환\n",
    "\n",
    "train_df['hanriver']=train_df['dong'].isin(hanriver_dong).astype(int)\n",
    "test_df['hanriver']=test_df['dong'].isin(hanriver_dong).astype(int)"
   ]
  },
  {
   "cell_type": "markdown",
   "metadata": {},
   "source": [
    "## 평균 실거래가로 동네 sorting"
   ]
  },
  {
   "cell_type": "code",
   "execution_count": null,
   "metadata": {},
   "outputs": [],
   "source": [
    "# \"dong\"으로 groupby 후, 평균값으로 집계\n",
    "# 실거래가를 기준으로 오름차순 정렬 후 reset_index()\n",
    "dong = train_df[['transaction_real_price','dong']].groupby('dong').mean().sort_values('transaction_real_price').reset_index()\n",
    "\n",
    "# dong의 인덱스를 idx 컬럼에 추가\n",
    "dong[\"idx\"] = dong.index\n",
    "dong"
   ]
  },
  {
   "cell_type": "code",
   "execution_count": null,
   "metadata": {
    "scrolled": false
   },
   "outputs": [],
   "source": [
    "# dong_rank에 동 이름을 key, 순서를 value\n",
    "dong_rank = {}\n",
    "for i in range(len(dong)):\n",
    "    dong_rank[dong[\"dong\"].iloc[i]] = dong[\"idx\"].iloc[i]"
   ]
  },
  {
   "cell_type": "code",
   "execution_count": null,
   "metadata": {},
   "outputs": [],
   "source": [
    "# df의 dong_rank에 위 dong_rank 딕셔너리 매핑\n",
    "train_df[\"dong_rank\"] = train_df[\"dong\"].map(dong_rank)\n",
    "test_df[\"dong_rank\"] = test_df[\"dong\"].map(dong_rank)\n",
    "\n",
    "# dong 컬럼 drop\n",
    "train_df.drop(\"dong\", axis=1, inplace=True)\n",
    "test_df.drop(\"dong\", axis=1, inplace=True)\n",
    "\n",
    "train_df.head()"
   ]
  },
  {
   "cell_type": "markdown",
   "metadata": {},
   "source": [
    "## 평균 실거래가로 아파트 sorting"
   ]
  },
  {
   "cell_type": "code",
   "execution_count": null,
   "metadata": {},
   "outputs": [],
   "source": [
    "apt = train_df[['transaction_real_price','apt']].groupby('apt').mean().sort_values('transaction_real_price').reset_index()\n",
    "apt[\"idx\"] = apt.index\n",
    "\n",
    "\n",
    "apt_rank = {}\n",
    "for i in range(len(apt)):\n",
    "    apt_rank[apt[\"apt\"].iloc[i]] = apt[\"idx\"].iloc[i]\n",
    "\n",
    "train_df[\"apt_rank\"] = train_df[\"apt\"].map(apt_rank)\n",
    "test_df[\"apt_rank\"] = test_df[\"apt\"].map(apt_rank)\n",
    "\n",
    "train_df.drop(\"apt\", axis=1, inplace=True)\n",
    "test_df.drop(\"apt\", axis=1, inplace=True)\n",
    "\n",
    "train_df.head()"
   ]
  },
  {
   "cell_type": "markdown",
   "metadata": {},
   "source": [
    "## 평균 실거래가로 지번 sorting"
   ]
  },
  {
   "cell_type": "code",
   "execution_count": null,
   "metadata": {},
   "outputs": [],
   "source": [
    "jibun = train_df[['transaction_real_price','jibun']].groupby('jibun').mean().sort_values('transaction_real_price').reset_index()\n",
    "jibun[\"idx\"] = jibun.index\n",
    "\n",
    "\n",
    "jibun_rank = {}\n",
    "for i in range(len(jibun)):\n",
    "    jibun_rank[jibun[\"jibun\"].iloc[i]] = jibun[\"idx\"].iloc[i]\n",
    "\n",
    "train_df[\"jibun_rank\"] = train_df[\"jibun\"].map(jibun_rank)\n",
    "test_df[\"jibun_rank\"] = test_df[\"jibun\"].map(jibun_rank)\n",
    "\n",
    "train_df.drop(\"jibun\", axis=1, inplace=True)\n",
    "test_df.drop(\"jibun\", axis=1, inplace=True)\n",
    "\n",
    "train_df.head()"
   ]
  },
  {
   "cell_type": "code",
   "execution_count": null,
   "metadata": {},
   "outputs": [],
   "source": [
    "train_df.head()"
   ]
  },
  {
   "cell_type": "markdown",
   "metadata": {},
   "source": [
    "## 거래 날짜 Labeling"
   ]
  },
  {
   "cell_type": "code",
   "execution_count": null,
   "metadata": {},
   "outputs": [],
   "source": [
    "train_df['transaction_date'].unique(), test_df['transaction_date'].unique()"
   ]
  },
  {
   "cell_type": "code",
   "execution_count": null,
   "metadata": {},
   "outputs": [],
   "source": [
    "date_range = {'1~10': 0, '11~20': 1, '21~28': 2, '21~29': 2, '21~30': 2, '21~31': 2}\n",
    "\n",
    "train_df.replace({\"transaction_date\": date_range}, inplace=True)\n",
    "test_df.replace({\"transaction_date\": date_range}, inplace=True)\n",
    "\n",
    "train_df.head()"
   ]
  },
  {
   "cell_type": "code",
   "execution_count": null,
   "metadata": {},
   "outputs": [],
   "source": [
    "train_df.info(), test_df.info()"
   ]
  },
  {
   "cell_type": "markdown",
   "metadata": {},
   "source": [
    "## test_df null 값 처리"
   ]
  },
  {
   "cell_type": "code",
   "execution_count": null,
   "metadata": {},
   "outputs": [],
   "source": [
    "test_df[\"dong_rank\"].fillna(test_df[\"dong_rank\"].mean(), inplace=True)\n",
    "test_df[\"apt_rank\"].fillna(test_df[\"apt_rank\"].mean(), inplace=True)\n",
    "test_df[\"jibun_rank\"].fillna(test_df[\"jibun_rank\"].mean(), inplace=True)"
   ]
  },
  {
   "cell_type": "markdown",
   "metadata": {},
   "source": [
    "## 데이터셋 분리"
   ]
  },
  {
   "cell_type": "code",
   "execution_count": null,
   "metadata": {},
   "outputs": [],
   "source": [
    "from sklearn.model_selection import train_test_split\n",
    "\n",
    "x = \n",
    "y = \n",
    "\n",
    "\n",
    "\n",
    "print(x_train.shape, x_valid.shape)\n",
    "print(y_train.shape, y_valid.shape)"
   ]
  },
  {
   "cell_type": "markdown",
   "metadata": {},
   "source": [
    "## 모델 학습 및 예측"
   ]
  },
  {
   "cell_type": "markdown",
   "metadata": {},
   "source": [
    "### RandomForest"
   ]
  },
  {
   "cell_type": "code",
   "execution_count": null,
   "metadata": {},
   "outputs": [],
   "source": [
    "from sklearn.ensemble import RandomForestRegressor\n",
    "\n",
    "rf =\n",
    "rf\n",
    "\n",
    "\n",
    "y_hat = rf"
   ]
  },
  {
   "cell_type": "code",
   "execution_count": null,
   "metadata": {},
   "outputs": [],
   "source": [
    "rf_rmse = mean_squared_error(y_valid, y_hat)**0.5\n",
    "rf_rmse"
   ]
  },
  {
   "cell_type": "code",
   "execution_count": null,
   "metadata": {},
   "outputs": [],
   "source": [
    "y_test = "
   ]
  },
  {
   "cell_type": "code",
   "execution_count": null,
   "metadata": {},
   "outputs": [],
   "source": [
    "rf_submission = pd.concat([test_df['transaction_id'], y_test], axis=1)\n",
    "\n",
    "\n",
    "rf_submission.columns = ['transaction_id', 'transaction_real_price']\n",
    "rf_submission.to_csv('rf_park_50_submission.csv', header = True, index = False)"
   ]
  },
  {
   "cell_type": "code",
   "execution_count": null,
   "metadata": {},
   "outputs": [],
   "source": [
    "test = pd.read_csv('rf_park_50_submission.csv')\n",
    "test"
   ]
  },
  {
   "cell_type": "code",
   "execution_count": null,
   "metadata": {},
   "outputs": [],
   "source": [
    "len(test[\"transaction_real_price\"].unique())"
   ]
  },
  {
   "cell_type": "markdown",
   "metadata": {},
   "source": [
    "## RandomSearch"
   ]
  },
  {
   "cell_type": "code",
   "execution_count": null,
   "metadata": {},
   "outputs": [],
   "source": [
    "from sklearn.model_selection import RandomizedSearchCV\n",
    "from scipy.stats import randint"
   ]
  },
  {
   "cell_type": "code",
   "execution_count": null,
   "metadata": {},
   "outputs": [],
   "source": [
    "param_distribs = {'n_estimators': randint(low=1, high=200),'max_features': randint(low=1, high=8)}\n",
    "\n",
    "forest_reg = RandomForestRegressor(random_state=42)\n",
    "rnd_search = RandomizedSearchCV(forest_reg, param_distributions=param_distribs,\n",
    "                                n_iter=10, cv=5, scoring='neg_mean_squared_error', random_state=42)\n",
    "\n",
    "rnd_search.fit(x_train, y_train)\n",
    "\n",
    "# 최적의 모델 설정 확인  \n",
    "rnd_search.best_estimator_"
   ]
  },
  {
   "cell_type": "code",
   "execution_count": null,
   "metadata": {},
   "outputs": [],
   "source": [
    "y_hat = rnd_search.predict(x_valid)\n",
    "\n",
    "rnd_rf_rmse = mean_squared_error(y_valid, y_hat)**0.5\n",
    "rnd_rf_rmse"
   ]
  },
  {
   "cell_type": "code",
   "execution_count": null,
   "metadata": {},
   "outputs": [],
   "source": [
    "y_test = pd.Series(rnd_search.predict(test_df))\n",
    "\n",
    "rnd_rf_submission = pd.concat([test_df['transaction_id'], y_test], axis=1)\n",
    "\n",
    "\n",
    "rnd_rf_submission.columns = ['transaction_id', 'transaction_real_price']\n",
    "rnd_rf_submission.to_csv('rnd_rf_park_50_submission.csv', header = True, index = False)"
   ]
  },
  {
   "cell_type": "code",
   "execution_count": null,
   "metadata": {},
   "outputs": [],
   "source": [
    "test = pd.read_csv('rnd_rf_park_50_submission.csv')\n",
    "test"
   ]
  },
  {
   "cell_type": "code",
   "execution_count": null,
   "metadata": {},
   "outputs": [],
   "source": []
  }
 ],
 "metadata": {
  "kernelspec": {
   "display_name": "Python 3",
   "language": "python",
   "name": "python3"
  },
  "language_info": {
   "codemirror_mode": {
    "name": "ipython",
    "version": 3
   },
   "file_extension": ".py",
   "mimetype": "text/x-python",
   "name": "python",
   "nbconvert_exporter": "python",
   "pygments_lexer": "ipython3",
   "version": "3.7.4"
  }
 },
 "nbformat": 4,
 "nbformat_minor": 2
}
