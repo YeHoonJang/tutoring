{
 "cells": [
  {
   "cell_type": "markdown",
   "metadata": {},
   "source": [
    "# 아파트 실거래가 예측 - https://bit.ly/3v5edhJ\n",
    "\n",
    "### 부동산 빅데이터와 AI를 이용하여 실거래가를 예측 분석 | 회귀 | RMSE"
   ]
  },
  {
   "cell_type": "code",
   "execution_count": null,
   "metadata": {},
   "outputs": [],
   "source": [
    "import pandas as pd"
   ]
  },
  {
   "cell_type": "code",
   "execution_count": null,
   "metadata": {},
   "outputs": [],
   "source": [
    "train_df = pd.read_csv('./data/train.csv')\n",
    "test_df = pd.read_csv('./data/test.csv')\n",
    "print(train_df.shape)\n",
    "train_df.head()"
   ]
  },
  {
   "cell_type": "code",
   "execution_count": null,
   "metadata": {},
   "outputs": [],
   "source": [
    "# 데이터 줄이기\n",
    "\n",
    "train_df = train_df.loc[train_df[\"transaction_id\"]%100==0, :]\n",
    "train_df = train_df.reset_index(drop=True)\n",
    "train_df.head()"
   ]
  },
  {
   "cell_type": "code",
   "execution_count": null,
   "metadata": {},
   "outputs": [],
   "source": [
    "print(test_df.shape)\n",
    "test_df.head()"
   ]
  },
  {
   "cell_type": "code",
   "execution_count": null,
   "metadata": {},
   "outputs": [],
   "source": [
    "train_df.info()"
   ]
  },
  {
   "cell_type": "code",
   "execution_count": null,
   "metadata": {},
   "outputs": [],
   "source": [
    "test_df.info()"
   ]
  },
  {
   "cell_type": "markdown",
   "metadata": {},
   "source": [
    "## city"
   ]
  },
  {
   "cell_type": "code",
   "execution_count": null,
   "metadata": {},
   "outputs": [],
   "source": [
    "train_df[\"city\"].unique()"
   ]
  },
  {
   "cell_type": "code",
   "execution_count": null,
   "metadata": {},
   "outputs": [],
   "source": [
    "test_df[\"city\"].unique()"
   ]
  },
  {
   "cell_type": "markdown",
   "metadata": {},
   "source": [
    "### Labeling"
   ]
  },
  {
   "cell_type": "code",
   "execution_count": null,
   "metadata": {},
   "outputs": [],
   "source": [
    "train_df.loc[train_df[\"city\"] == \"서울특별시\", \"city\"] = 0\n",
    "train_df.loc[train_df[\"city\"] == \"부산광역시\", \"city\"] = 1\n",
    "train_df[\"city\"] = train_df[\"city\"].astype('int')\n",
    "\n",
    "test_df.loc[test_df[\"city\"] == \"서울특별시\", \"city\"] = 0\n",
    "test_df.loc[test_df[\"city\"] == \"부산광역시\", \"city\"] = 1\n",
    "test_df[\"city\"] = test_df[\"city\"].astype('int')"
   ]
  },
  {
   "cell_type": "code",
   "execution_count": null,
   "metadata": {},
   "outputs": [],
   "source": [
    "train_df.head()"
   ]
  },
  {
   "cell_type": "code",
   "execution_count": null,
   "metadata": {},
   "outputs": [],
   "source": [
    "test_df.head()"
   ]
  },
  {
   "cell_type": "markdown",
   "metadata": {},
   "source": [
    "## drop addr_kr"
   ]
  },
  {
   "cell_type": "code",
   "execution_count": null,
   "metadata": {},
   "outputs": [],
   "source": [
    "train_df.drop('addr_kr', axis=1, inplace=True)\n",
    "test_df.drop('addr_kr', axis=1, inplace=True)"
   ]
  },
  {
   "cell_type": "markdown",
   "metadata": {},
   "source": [
    "## 한강이 보이는 동네"
   ]
  },
  {
   "cell_type": "code",
   "execution_count": null,
   "metadata": {},
   "outputs": [],
   "source": [
    "hanriver_dong = ['성수동1가','삼성동','이촌동','공덕동','서교동','한강로3가','목동','고덕동', '암사동', '천호동', '풍납동',\n",
    "                '잠실동', '청담동', '압구정동', '신사동', '잠원동', '반포동', '흑석동', '노량진동', '여의동', '당산동',\n",
    "                '양평동', '염창동', '가양동', '방화동']\n",
    "\n",
    "# isin을 사용해서 한강이 보이는 동네는 1, 아니면 0\n",
    "# True, False를 integer로 변환\n",
    "\n",
    "train_df['hanriver'] =\n",
    "test_df['hanriver'] ="
   ]
  },
  {
   "cell_type": "markdown",
   "metadata": {},
   "source": [
    "## 평균 실거래가로 동네 sorting"
   ]
  },
  {
   "cell_type": "code",
   "execution_count": null,
   "metadata": {},
   "outputs": [],
   "source": [
    "# \"dong\"으로 groupby 후, 평균값으로 집계\n",
    "# 실거래가를 기준으로 오름차순 정렬 후 reset_index()\n",
    "dong = \n",
    "\n",
    "# dong의 인덱스를 idx 컬럼에 추가\n",
    "dong[\"idx\"] = \n",
    "dong"
   ]
  },
  {
   "cell_type": "code",
   "execution_count": null,
   "metadata": {
    "scrolled": false
   },
   "outputs": [],
   "source": [
    "# dong_rank에 동 이름을 key, 순서를 value\n",
    "dong_rank = {}\n",
    "for i in range(len(dong)):\n",
    "    \n",
    "dong_rank"
   ]
  },
  {
   "cell_type": "code",
   "execution_count": null,
   "metadata": {},
   "outputs": [],
   "source": [
    "# df의 dong_rank에 위 dong_rank 딕셔너리 매핑\n",
    "train_df[\"dong_rank\"] = \n",
    "test_df[\"dong_rank\"] = \n",
    "\n",
    "# dong 컬럼 drop\n",
    "\n",
    "\n",
    "train_df.head()"
   ]
  },
  {
   "cell_type": "markdown",
   "metadata": {},
   "source": [
    "## 평균 실거래가로 아파트 sorting"
   ]
  },
  {
   "cell_type": "code",
   "execution_count": null,
   "metadata": {},
   "outputs": [],
   "source": [
    "apt = \n",
    "apt[\"idx\"] = \n",
    "\n",
    "\n",
    "apt_rank = {}\n",
    "for i in range(len(apt)):\n",
    "    \n",
    "\n",
    "train_df[\"apt_rank\"] = \n",
    "test_df[\"apt_rank\"] = \n",
    "\n",
    "train_df.drop()\n",
    "test_df.drop()\n",
    "\n",
    "train_df.head()"
   ]
  },
  {
   "cell_type": "markdown",
   "metadata": {},
   "source": [
    "## 평균 실거래가로 지번 sorting"
   ]
  },
  {
   "cell_type": "code",
   "execution_count": null,
   "metadata": {},
   "outputs": [],
   "source": [
    "jibun = \n",
    "jibun[\"idx\"] = \n",
    "\n",
    "\n",
    "jibun_rank = {}\n",
    "for i in range(len(jibun)):\n",
    "    \n",
    "    \n",
    "train_df[\"jibun_rank\"] = \n",
    "test_df[\"jibun_rank\"] = \n",
    "\n",
    "train_df.drop()\n",
    "test_df.drop()\n",
    "\n",
    "train_df.head()"
   ]
  },
  {
   "cell_type": "code",
   "execution_count": null,
   "metadata": {},
   "outputs": [],
   "source": [
    "train_df.head()"
   ]
  },
  {
   "cell_type": "markdown",
   "metadata": {},
   "source": [
    "## 거래 날짜 Labeling"
   ]
  },
  {
   "cell_type": "code",
   "execution_count": null,
   "metadata": {},
   "outputs": [],
   "source": [
    "train_df['transaction_date'].unique(), test_df['transaction_date'].unique()"
   ]
  },
  {
   "cell_type": "code",
   "execution_count": null,
   "metadata": {},
   "outputs": [],
   "source": [
    "date_range = {'1~10': 0, '11~20': 1, '21~28': 3, '21~29': 3, '21~30': 3, '21~31': 3}\n",
    "\n",
    "train_df.replace({\"transaction_date\": date_range}, inplace=True)\n",
    "test_df.replace({\"transaction_date\": date_range}, inplace=True)\n",
    "\n",
    "train_df.head()"
   ]
  },
  {
   "cell_type": "code",
   "execution_count": null,
   "metadata": {},
   "outputs": [],
   "source": [
    "train_df.info(), test_df.info()"
   ]
  },
  {
   "cell_type": "markdown",
   "metadata": {},
   "source": [
    "## test_df null 값 처리"
   ]
  },
  {
   "cell_type": "code",
   "execution_count": null,
   "metadata": {},
   "outputs": [],
   "source": [
    "test_df[\"dong_rank\"]\n",
    "test_df[\"apt_rank\"]\n",
    "test_df[\"jibun_rank\"]"
   ]
  },
  {
   "cell_type": "markdown",
   "metadata": {},
   "source": [
    "## 데이터셋 분리"
   ]
  },
  {
   "cell_type": "code",
   "execution_count": null,
   "metadata": {},
   "outputs": [],
   "source": [
    "from sklearn.model_selection import train_test_split\n",
    "\n",
    "x = \n",
    "y = \n",
    "\n",
    "\n",
    "\n",
    "print(x_train.shape, x_valid.shape)\n",
    "print(y_train.shape, y_valid.shape)"
   ]
  },
  {
   "cell_type": "markdown",
   "metadata": {},
   "source": [
    "## 모델 학습 및 예측"
   ]
  },
  {
   "cell_type": "markdown",
   "metadata": {},
   "source": [
    "### SVM"
   ]
  },
  {
   "cell_type": "code",
   "execution_count": null,
   "metadata": {},
   "outputs": [],
   "source": [
    "from sklearn.svm import SVC\n",
    "\n",
    "svc = \n",
    "svc.\n",
    "\n",
    "y_hat = svc."
   ]
  },
  {
   "cell_type": "code",
   "execution_count": null,
   "metadata": {},
   "outputs": [],
   "source": [
    "from sklearn.metrics import mean_squared_error\n",
    "\n",
    "svm_rmse = mean_squared_error(y_valid, y_hat)**0.5\n",
    "svm_rmse"
   ]
  },
  {
   "cell_type": "code",
   "execution_count": null,
   "metadata": {},
   "outputs": [],
   "source": [
    "y_test = "
   ]
  },
  {
   "cell_type": "code",
   "execution_count": null,
   "metadata": {},
   "outputs": [],
   "source": [
    "svm_submission = pd.concat([test_df['transaction_id'], y_test], axis=1)\n",
    "\n",
    "svm_submission.columns = ['transaction_id', 'transaction_real_price']\n",
    "svm_submission.to_csv('svm_submission.csv', header = True, index = False)"
   ]
  },
  {
   "cell_type": "code",
   "execution_count": null,
   "metadata": {},
   "outputs": [],
   "source": [
    "test = pd.read_csv('svm_submission.csv')\n",
    "test"
   ]
  },
  {
   "cell_type": "code",
   "execution_count": null,
   "metadata": {},
   "outputs": [],
   "source": [
    "test.transaction_real_price.unique()"
   ]
  },
  {
   "cell_type": "markdown",
   "metadata": {},
   "source": [
    "### RandomForest"
   ]
  },
  {
   "cell_type": "code",
   "execution_count": null,
   "metadata": {},
   "outputs": [],
   "source": [
    "from sklearn.ensemble import RandomForestRegressor\n",
    "\n",
    "rf = \n",
    "rf.\n",
    "\n",
    "\n",
    "y_hat = rf."
   ]
  },
  {
   "cell_type": "code",
   "execution_count": null,
   "metadata": {},
   "outputs": [],
   "source": [
    "rf_rmse = mean_squared_error(y_valid, y_hat)**0.5\n",
    "rf_rmse"
   ]
  },
  {
   "cell_type": "code",
   "execution_count": null,
   "metadata": {},
   "outputs": [],
   "source": [
    "y_test = "
   ]
  },
  {
   "cell_type": "code",
   "execution_count": null,
   "metadata": {},
   "outputs": [],
   "source": [
    "rf_submission = pd.concat([test_df['transaction_id'], y_test], axis=1)\n",
    "\n",
    "\n",
    "rf_submission.columns = ['transaction_id', 'transaction_real_price']\n",
    "rf_submission.to_csv('rf_submission.csv', header = True, index = False)"
   ]
  },
  {
   "cell_type": "code",
   "execution_count": null,
   "metadata": {},
   "outputs": [],
   "source": [
    "test = pd.read_csv('rf_submission.csv')\n",
    "test"
   ]
  },
  {
   "cell_type": "code",
   "execution_count": null,
   "metadata": {},
   "outputs": [],
   "source": []
  }
 ],
 "metadata": {
  "kernelspec": {
   "display_name": "Python 3",
   "language": "python",
   "name": "python3"
  },
  "language_info": {
   "codemirror_mode": {
    "name": "ipython",
    "version": 3
   },
   "file_extension": ".py",
   "mimetype": "text/x-python",
   "name": "python",
   "nbconvert_exporter": "python",
   "pygments_lexer": "ipython3",
   "version": "3.7.4"
  }
 },
 "nbformat": 4,
 "nbformat_minor": 2
}
